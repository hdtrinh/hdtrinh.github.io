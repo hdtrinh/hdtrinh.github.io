{
 "cells": [
  {
   "cell_type": "markdown",
   "metadata": {},
   "source": [
    "# Leaflet cluster map of talk locations\n",
    "\n",
    "Run this from the _talks/ directory, which contains .md files of all your talks. This scrapes the location YAML field from each .md file, geolocates it with geopy/Nominatim, and uses the getorg library to output data, HTML, and Javascript for a standalone cluster map."
   ]
  },
  {
   "cell_type": "code",
   "execution_count": 2,
   "metadata": {},
   "outputs": [
    {
     "name": "stdout",
     "output_type": "stream",
     "text": [
      "/Users/hdtrinh/Desktop/hdtrinh.github.io/talkmap\n"
     ]
    }
   ],
   "source": [
    "cd talkmap/"
   ]
  },
  {
   "cell_type": "code",
   "execution_count": 3,
   "metadata": {},
   "outputs": [
    {
     "name": "stdout",
     "output_type": "stream",
     "text": [
      "Collecting getorg\n",
      "  Downloading getorg-0.3.1-py2.py3-none-any.whl (39 kB)\n",
      "Collecting geopy\n",
      "  Downloading geopy-2.0.0-py3-none-any.whl (111 kB)\n",
      "\u001b[K     |████████████████████████████████| 111 kB 1.7 MB/s eta 0:00:01\n",
      "\u001b[?25hCollecting retrying\n",
      "  Downloading retrying-1.3.3.tar.gz (10 kB)\n",
      "Collecting pygithub\n",
      "  Downloading PyGithub-1.53-py3-none-any.whl (274 kB)\n",
      "\u001b[K     |████████████████████████████████| 274 kB 1.0 MB/s eta 0:00:01\n",
      "\u001b[?25hCollecting geographiclib<2,>=1.49\n",
      "  Downloading geographiclib-1.50-py3-none-any.whl (38 kB)\n",
      "Requirement already satisfied, skipping upgrade: six>=1.7.0 in /Users/hdtrinh/anaconda3/lib/python3.8/site-packages (from retrying->getorg) (1.15.0)\n",
      "Collecting pyjwt\n",
      "  Downloading PyJWT-1.7.1-py2.py3-none-any.whl (18 kB)\n",
      "Requirement already satisfied, skipping upgrade: requests>=2.14.0 in /Users/hdtrinh/anaconda3/lib/python3.8/site-packages (from pygithub->getorg) (2.24.0)\n",
      "Collecting deprecated\n",
      "  Downloading Deprecated-1.2.10-py2.py3-none-any.whl (8.7 kB)\n",
      "Requirement already satisfied, skipping upgrade: urllib3!=1.25.0,!=1.25.1,<1.26,>=1.21.1 in /Users/hdtrinh/anaconda3/lib/python3.8/site-packages (from requests>=2.14.0->pygithub->getorg) (1.25.9)\n",
      "Requirement already satisfied, skipping upgrade: chardet<4,>=3.0.2 in /Users/hdtrinh/anaconda3/lib/python3.8/site-packages (from requests>=2.14.0->pygithub->getorg) (3.0.4)\n",
      "Requirement already satisfied, skipping upgrade: idna<3,>=2.5 in /Users/hdtrinh/anaconda3/lib/python3.8/site-packages (from requests>=2.14.0->pygithub->getorg) (2.10)\n",
      "Requirement already satisfied, skipping upgrade: certifi>=2017.4.17 in /Users/hdtrinh/anaconda3/lib/python3.8/site-packages (from requests>=2.14.0->pygithub->getorg) (2020.6.20)\n",
      "Requirement already satisfied, skipping upgrade: wrapt<2,>=1.10 in /Users/hdtrinh/anaconda3/lib/python3.8/site-packages (from deprecated->pygithub->getorg) (1.11.2)\n",
      "Building wheels for collected packages: retrying\n",
      "  Building wheel for retrying (setup.py) ... \u001b[?25ldone\n",
      "\u001b[?25h  Created wheel for retrying: filename=retrying-1.3.3-py3-none-any.whl size=11430 sha256=eda56f59d614f644ed7474e47c6d1465def07f46381c12a47ac5057808734863\n",
      "  Stored in directory: /Users/hdtrinh/Library/Caches/pip/wheels/c4/a7/48/0a434133f6d56e878ca511c0e6c38326907c0792f67b476e56\n",
      "Successfully built retrying\n",
      "Installing collected packages: geographiclib, geopy, retrying, pyjwt, deprecated, pygithub, getorg\n",
      "Successfully installed deprecated-1.2.10 geographiclib-1.50 geopy-2.0.0 getorg-0.3.1 pygithub-1.53 pyjwt-1.7.1 retrying-1.3.3\n",
      "Iywidgets and ipyleaflet support disabled. You must be in a Jupyter notebook to use this feature.\n",
      "Error raised:\n",
      "No module named 'ipyleaflet'\n",
      "Check that you have enabled ipyleaflet in Jupyter with:\n",
      "    jupyter nbextension enable --py ipyleaflet\n"
     ]
    }
   ],
   "source": [
    "!pip install getorg --upgrade\n",
    "import glob\n",
    "import getorg\n",
    "from geopy import Nominatim"
   ]
  },
  {
   "cell_type": "code",
   "execution_count": 43,
   "metadata": {},
   "outputs": [
    {
     "data": {
      "text/plain": [
       "['_talks/2017-paris.md',\n",
       " '_talks/2018-CTTC-workshop.md',\n",
       " '_talks/2017-montreal.md',\n",
       " '_talks/2019-secon-boston.md',\n",
       " '_talks/2018-science-week.md',\n",
       " '_talks/2017-glasgow.md',\n",
       " '_talks/2019-softcom.md']"
      ]
     },
     "execution_count": 43,
     "metadata": {},
     "output_type": "execute_result"
    }
   ],
   "source": [
    "import os\n",
    "g = glob.glob('_talks/*.md')\n",
    "g"
   ]
  },
  {
   "cell_type": "code",
   "execution_count": 46,
   "metadata": {},
   "outputs": [],
   "source": [
    "import geopy\n",
    "geopy.geocoders.options.default_user_agent = \"my-application\"\n",
    "geocoder = Nominatim(user_agent='http')\n",
    "location_dict = {}\n",
    "location = \"\"\n",
    "permalink = \"\"\n",
    "title = \"\""
   ]
  },
  {
   "cell_type": "code",
   "execution_count": 49,
   "metadata": {},
   "outputs": [
    {
     "name": "stdout",
     "output_type": "stream",
     "text": [
      "Paris, France \n",
      " Paris, Île-de-France, France métropolitaine, France\n",
      "Sitges, Spain \n",
      " Sitges, Garraf, Barcelona, Catalunya, 08870, España\n",
      "Montreal, Canada \n",
      " Montréal, Agglomération de Montréal, Montréal (06), Québec, Canada\n",
      "Boston, Massachusetts, USA \n",
      " Boston, Suffolk County, Massachusetts, United States of America\n",
      "CTTC, Barcelona, Spain \n",
      " Centre Tecnològic de Telecomunicacions de Catalunya, 7, Avinguda de Carl Friedrich Gauss, Mar-i-sol, Cal Ganxo, Castelldefels, Baix Llobregat, Barcelona, Catalunya, 08860, España\n",
      "Strathclyde University, Glasgow, UK \n",
      " Strathclyde University, George Street, Pinkston, Merchant City, Glasgow, Glasgow City, Scotland, G1 1RF, United Kingdom\n",
      "Split, Croatia \n",
      " Split, Grad Split, Splitsko-dalmatinska županija, Hrvatska\n"
     ]
    }
   ],
   "source": [
    "\n",
    "for file in g:\n",
    "    with open(file, 'r') as f:\n",
    "        lines = f.read()\n",
    "        if lines.find('location') > 1:\n",
    "            loc_start = lines.find('location') + 11\n",
    "            lines_trim = lines[loc_start:]\n",
    "            loc_end = lines_trim.find('---')\n",
    "            location = lines_trim[:loc_end-2]\n",
    "                            \n",
    "           \n",
    "        location_dict[location] = geocoder.geocode(location)\n",
    "        print(location, \"\\n\", location_dict[location])\n"
   ]
  },
  {
   "cell_type": "code",
   "execution_count": 54,
   "metadata": {},
   "outputs": [
    {
     "name": "stdout",
     "output_type": "stream",
     "text": [
      "Paris, France \n",
      " Paris, Île-de-France, France métropolitaine, France\n",
      "Siges, Spain \n",
      " Carrer de Siges, el Raval de Sant Llàtzer, Tortosa, Baix Ebre, Tarragona, Catalunya, 43500, España\n",
      "Montreal, Canada \n",
      " Montréal, Agglomération de Montréal, Montréal (06), Québec, Canada\n",
      "Boston, USA \n",
      " Boston, Suffolk County, Massachusetts, United States of America\n",
      "CTTC Barcelona \n",
      " Centre Tecnològic de Telecomunicacions de Catalunya, 7, Avinguda de Carl Friedrich Gauss, Mar-i-sol, Cal Ganxo, Castelldefels, Baix Llobregat, Barcelona, Catalunya, 08860, España\n",
      "Strathclyde University, Glasgow \n",
      " Strathclyde University, George Street, Pinkston, Merchant City, Glasgow, Glasgow City, Scotland, G1 1RF, United Kingdom\n",
      "Split, Croatia \n",
      " Split, Grad Split, Splitsko-dalmatinska županija, Hrvatska\n",
      "Bologna,Italy \n",
      " Bologna, Emilia-Romagna, Italia\n",
      "Bressanone, Italy \n",
      " Brixen - Bressanone, Eisacktal - Valle Isarco, Bolzano - Bozen, Trentino-Alto Adige/Südtirol, 39042, Italia\n",
      "Imperial College, London,UK \n",
      " Imperial College, Queen's Gate, City of Westminster, London, Greater London, England, SW7 5QL, United Kingdom\n",
      "University of Maryland College Park, Maryland, USA \n",
      " University of Maryland, College Park, Lakeland Road, Lakeland, College Park, Prince George's County, Maryland, 20740, United States of America\n"
     ]
    }
   ],
   "source": [
    "locs = ['Paris, France' ,\n",
    "       'Siges, Spain',\n",
    "       'Montreal, Canada',\n",
    "       'Boston, USA',\n",
    "       'CTTC Barcelona',\n",
    "       'Strathclyde University, Glasgow',\n",
    "       'Split, Croatia',\n",
    "       'Bologna,Italy',\n",
    "       'Bressanone, Italy',\n",
    "       'Imperial College, London,UK',\n",
    "       'University of Maryland College Park, Maryland, USA']\n",
    "\n",
    "location_dict = {}\n",
    "for l in locs:\n",
    "    location_dict[l] = geocoder.geocode(l)\n",
    "    print(l, \"\\n\", location_dict[l])"
   ]
  },
  {
   "cell_type": "code",
   "execution_count": 56,
   "metadata": {},
   "outputs": [
    {
     "data": {
      "text/plain": [
       "'Written map to talkmap/'"
      ]
     },
     "execution_count": 56,
     "metadata": {},
     "output_type": "execute_result"
    }
   ],
   "source": [
    "m = getorg.orgmap.create_map_obj()\n",
    "getorg.orgmap.output_html_cluster_map(location_dict, folder_name=\"talkmap\", hashed_usernames=False)"
   ]
  },
  {
   "cell_type": "code",
   "execution_count": null,
   "metadata": {
    "collapsed": true
   },
   "outputs": [],
   "source": []
  }
 ],
 "metadata": {
  "anaconda-cloud": {},
  "kernelspec": {
   "display_name": "Python 3",
   "language": "python",
   "name": "python3"
  },
  "language_info": {
   "codemirror_mode": {
    "name": "ipython",
    "version": 3
   },
   "file_extension": ".py",
   "mimetype": "text/x-python",
   "name": "python",
   "nbconvert_exporter": "python",
   "pygments_lexer": "ipython3",
   "version": "3.8.3"
  }
 },
 "nbformat": 4,
 "nbformat_minor": 1
}
